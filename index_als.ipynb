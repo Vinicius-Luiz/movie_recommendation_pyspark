{
 "cells": [
  {
   "cell_type": "code",
   "execution_count": 35,
   "metadata": {},
   "outputs": [],
   "source": [
    "from pyspark.sql import SparkSession\n",
    "from pyspark.sql.types import StructType, StructField, ArrayType, FloatType, IntegerType, StringType\n",
    "import pyspark.sql.functions as f\n",
    "import sys\n",
    "import csv\n",
    "import os"
   ]
  },
  {
   "cell_type": "code",
   "execution_count": 79,
   "metadata": {},
   "outputs": [],
   "source": [
    "# Importando a biblioteca RegressionEvaluator do PySpark para avaliação de modelos de regressão\n",
    "from pyspark.ml.evaluation import RegressionEvaluator\n",
    "\n",
    "# Importando a biblioteca ALS do PySpark para filtragem colaborativa e recomendação\n",
    "from pyspark.ml.recommendation import ALS\n",
    "\n",
    "# Importando a biblioteca TrainValidationSplit do PySpark para realizar validação\n",
    "# Importando também a classe ParamGridBuilder para construir um grid de parâmetros a serem testados durante a validação cruzada\n",
    "from pyspark.ml.tuning import TrainValidationSplit, ParamGridBuilder"
   ]
  },
  {
   "cell_type": "code",
   "execution_count": 48,
   "metadata": {},
   "outputs": [],
   "source": [
    "import matplotlib.pyplot as plt\n",
    "import matplotlib as mpl\n",
    "import seaborn as sns\n",
    "import pandas as pd"
   ]
  },
  {
   "cell_type": "code",
   "execution_count": 49,
   "metadata": {},
   "outputs": [],
   "source": [
    "pd.set_option('display.max_columns', 500)\n",
    "pd.set_option('display.max_rows', 40)\n",
    "sns.set_theme(style=\"white\")\n",
    "mpl.rc('font', family='Calibri')"
   ]
  },
  {
   "cell_type": "code",
   "execution_count": 3,
   "metadata": {},
   "outputs": [],
   "source": [
    "os.environ['PYSPARK_PYTHON'] = sys.executable\n",
    "os.environ['PYSPARK_DRIVER_PYTHON'] = sys.executable"
   ]
  },
  {
   "cell_type": "code",
   "execution_count": 4,
   "metadata": {},
   "outputs": [],
   "source": [
    "warehouse_location = \"hdfs://m1.local.br:9000/user/hive/warehouse\"\n",
    "hive_metastore_uri = \"thrift://m1.local.br:9083\"\n",
    "defaultFS = \"hdfs://m1.local.br:9000\""
   ]
  },
  {
   "cell_type": "markdown",
   "metadata": {},
   "source": [
    "# 1 - Conectando ao Hive com PySpark"
   ]
  },
  {
   "cell_type": "code",
   "execution_count": 5,
   "metadata": {},
   "outputs": [
    {
     "data": {
      "text/html": [
       "\n",
       "            <div>\n",
       "                <p><b>SparkSession - hive</b></p>\n",
       "                \n",
       "        <div>\n",
       "            <p><b>SparkContext</b></p>\n",
       "\n",
       "            <p><a href=\"http://DESKTOP-UFO3D9P:4040\">Spark UI</a></p>\n",
       "\n",
       "            <dl>\n",
       "              <dt>Version</dt>\n",
       "                <dd><code>v3.2.4</code></dd>\n",
       "              <dt>Master</dt>\n",
       "                <dd><code>local[*]</code></dd>\n",
       "              <dt>AppName</dt>\n",
       "                <dd><code>Machine Learning - MovieLens dataset</code></dd>\n",
       "            </dl>\n",
       "        </div>\n",
       "        \n",
       "            </div>\n",
       "        "
      ],
      "text/plain": [
       "<pyspark.sql.session.SparkSession at 0x1907137b730>"
      ]
     },
     "execution_count": 5,
     "metadata": {},
     "output_type": "execute_result"
    }
   ],
   "source": [
    "# .config('spark.ui.port', '4040') \\\n",
    "spark = SparkSession.builder \\\n",
    "    .appName(\"Machine Learning - MovieLens dataset\") \\\n",
    "    .config(\"spark.sql.warehouse.dir\", warehouse_location) \\\n",
    "    .config(\"spark.hadoop.fs.defaultFS\", defaultFS) \\\n",
    "    .config(\"hive.metastore.uris\", hive_metastore_uri) \\\n",
    "    .enableHiveSupport() \\\n",
    "    .getOrCreate()\n",
    "\n",
    "spark"
   ]
  },
  {
   "cell_type": "code",
   "execution_count": 6,
   "metadata": {},
   "outputs": [],
   "source": [
    "spark.catalog.refreshByPath(warehouse_location)"
   ]
  },
  {
   "cell_type": "code",
   "execution_count": 7,
   "metadata": {},
   "outputs": [
    {
     "name": "stdout",
     "output_type": "stream",
     "text": [
      "URI do Metastore do Hive: thrift://m1.local.br:9083\n",
      "Endereço do Hadoop (HDFS): hdfs://m1.local.br:9000\n"
     ]
    }
   ],
   "source": [
    "print(\"URI do Metastore do Hive:\", spark.conf.get(\"hive.metastore.uris\"))\n",
    "print(\"Endereço do Hadoop (HDFS):\", spark.conf.get(\"spark.hadoop.fs.defaultFS\"))"
   ]
  },
  {
   "cell_type": "code",
   "execution_count": 8,
   "metadata": {},
   "outputs": [
    {
     "name": "stdout",
     "output_type": "stream",
     "text": [
      "+--------------+\n",
      "|current_user()|\n",
      "+--------------+\n",
      "| Vinicius Luiz|\n",
      "+--------------+\n",
      "\n"
     ]
    }
   ],
   "source": [
    "# Visualizando o nome do usuário\n",
    "tables = spark.sql(\"SELECT current_user()\")\n",
    "tables.show()"
   ]
  },
  {
   "cell_type": "code",
   "execution_count": 9,
   "metadata": {},
   "outputs": [
    {
     "data": {
      "text/plain": [
       "DataFrame[]"
      ]
     },
     "execution_count": 9,
     "metadata": {},
     "output_type": "execute_result"
    }
   ],
   "source": [
    "# Se conectando ao banco default\n",
    "spark.sql(\"USE default\")"
   ]
  },
  {
   "cell_type": "code",
   "execution_count": 10,
   "metadata": {},
   "outputs": [
    {
     "name": "stdout",
     "output_type": "stream",
     "text": [
      "+---------+-----------------+-----------+\n",
      "|namespace|        tableName|isTemporary|\n",
      "+---------+-----------------+-----------+\n",
      "|  default|    genome_scores|      false|\n",
      "|  default|genome_scores_tmp|      false|\n",
      "|  default|      genome_tags|      false|\n",
      "|  default|  genome_tags_tmp|      false|\n",
      "|  default|            links|      false|\n",
      "|  default|        links_tmp|      false|\n",
      "|  default|           movies|      false|\n",
      "|  default|       movies_tmp|      false|\n",
      "|  default|          ratings|      false|\n",
      "|  default|      ratings_tmp|      false|\n",
      "|  default|             tags|      false|\n",
      "|  default|         tags_tmp|      false|\n",
      "+---------+-----------------+-----------+\n",
      "\n"
     ]
    }
   ],
   "source": [
    "# Visualizando as tabelas no database default\n",
    "tables = spark.sql(\"SHOW tables\")\n",
    "tables.show()"
   ]
  },
  {
   "cell_type": "code",
   "execution_count": 11,
   "metadata": {},
   "outputs": [],
   "source": [
    "SQL_COUNT = '''\n",
    "select count(1)       as qtd_linhas\n",
    "    , 'genome_scores' as table_name\n",
    "  from genome_scores\n",
    "union all\n",
    "select count(1)       as qtd_linhas\n",
    "    , 'genome_tags'   as table_name\n",
    "  from genome_tags\n",
    "union all\n",
    "select count(1)       as qtd_linhas\n",
    "    , 'movies'        as table_name\n",
    "  from movies\n",
    "union all\n",
    "select count(1)       as qtd_linhas\n",
    "    , 'ratings'       as table_name\n",
    "  from ratings\n",
    "union all\n",
    "select count(1)       as qtd_linhas\n",
    "    , 'tags'          as table_name\n",
    "  from tags\n",
    "union all\n",
    "select count(1)       as qtd_linhas\n",
    "    , 'links'         as table_name\n",
    "  from links\n",
    "'''"
   ]
  },
  {
   "cell_type": "code",
   "execution_count": 12,
   "metadata": {},
   "outputs": [
    {
     "name": "stdout",
     "output_type": "stream",
     "text": [
      "+----------+-------------+\n",
      "|qtd_linhas|table_name   |\n",
      "+----------+-------------+\n",
      "|18472128  |genome_scores|\n",
      "|1128      |genome_tags  |\n",
      "|86537     |movies       |\n",
      "|33832162  |ratings      |\n",
      "|2328315   |tags         |\n",
      "|86537     |links        |\n",
      "+----------+-------------+\n",
      "\n"
     ]
    }
   ],
   "source": [
    "df_movies = spark.sql(SQL_COUNT)\n",
    "df_movies.show(10, truncate=False)"
   ]
  },
  {
   "cell_type": "markdown",
   "metadata": {},
   "source": [
    "# 2 - Definindo amostragem\n",
    "O modelo ALS será treinado apenas com filmes que têm mais de **100 avaliações**. Isso pode ser importante para garantir que os filmes usados no treinamento do modelo tenham recebido um número suficiente de avaliações para gerar recomendações mais robustas e significativas.\n",
    "\n",
    "Os números fornecidos indicam a distribuição do número de avaliações para os filmes:\n",
    "\n",
    "- O dataset contém **83.239** filmes.\n",
    "- **17.916** filmes contêm apenas 1 avaliação.\n",
    "- **10.161** filmes contêm apenas 2 avaliações.\n",
    "- **55.162** filmes contêm 3 avaliações ou mais.\n",
    "- **43.873** filmes contêm 5 avaliações ou mais.\n",
    "- **32.021** filmes contêm 10 avaliações ou mais.\n",
    "- **16.116** filmes contém 50 avaliações ou mais.\n",
    "- **12.253** filmes contêm 100 avaliações ou mais.\n",
    "- **6.929** filmes contêm mais avaliações do que a média (406)."
   ]
  },
  {
   "cell_type": "markdown",
   "metadata": {},
   "source": [
    "# 3 - Realizando a Hiperparametrização do modelo ALS"
   ]
  },
  {
   "cell_type": "code",
   "execution_count": 14,
   "metadata": {},
   "outputs": [
    {
     "data": {
      "text/plain": [
       "12253"
      ]
     },
     "execution_count": 14,
     "metadata": {},
     "output_type": "execute_result"
    }
   ],
   "source": [
    "qtd_min_ratings = 100\n",
    "\n",
    "SQL_AMOSTRAGEM = '''\n",
    "SELECT m.movieid\n",
    "     , count(1)      as qtd_ratings\n",
    "  FROM ratings r\n",
    "  JOIN movies m\n",
    "    ON r.movieid = m.movieid\n",
    " GROUP BY m.movieid\n",
    " HAVING count(1) >= {qtd_min_ratings}\n",
    "'''\n",
    "\n",
    "df_movies_sample = spark.sql(SQL_AMOSTRAGEM.format(qtd_min_ratings = qtd_min_ratings))\n",
    "df_movies_sample.count()"
   ]
  },
  {
   "cell_type": "code",
   "execution_count": 15,
   "metadata": {},
   "outputs": [],
   "source": [
    "df_movies_sample.createOrReplaceTempView(\"movies_sample\")"
   ]
  },
  {
   "cell_type": "code",
   "execution_count": 17,
   "metadata": {},
   "outputs": [
    {
     "name": "stdout",
     "output_type": "stream",
     "text": [
      "+------+-------+------+\n",
      "|userid|movieid|rating|\n",
      "+------+-------+------+\n",
      "|9     |474    |4.0   |\n",
      "|22    |106100 |5.0   |\n",
      "|24    |474    |4.5   |\n",
      "|24    |6721   |3.0   |\n",
      "|30    |72011  |4.0   |\n",
      "+------+-------+------+\n",
      "only showing top 5 rows\n",
      "\n",
      "root\n",
      " |-- userid: long (nullable = true)\n",
      " |-- movieid: long (nullable = true)\n",
      " |-- rating: decimal(10,1) (nullable = true)\n",
      "\n"
     ]
    },
    {
     "data": {
      "text/plain": [
       "33060369"
      ]
     },
     "execution_count": 17,
     "metadata": {},
     "output_type": "execute_result"
    }
   ],
   "source": [
    "SQL_RATINGS ='''\n",
    "SELECT r.userid\n",
    "     , r.movieid\n",
    "     , r.rating\n",
    " FROM ratings r\n",
    " JOIN movies_sample ms\n",
    "   ON r.movieid = ms.movieid\n",
    "'''\n",
    "\n",
    "ratings = spark.sql(SQL_RATINGS)\n",
    "ratings = ratings.withColumn(\"userid\", f.col(\"userid\").cast(\"long\"))\n",
    "\n",
    "ratings.show(5, truncate=False)\n",
    "ratings.printSchema()\n",
    "ratings.count()"
   ]
  },
  {
   "cell_type": "code",
   "execution_count": 18,
   "metadata": {},
   "outputs": [],
   "source": [
    "# Separando os dados em 70% para o treinamento e 30% para a validação\n",
    "(train, test) = ratings.randomSplit([0.7, 0.3])"
   ]
  },
  {
   "cell_type": "code",
   "execution_count": 19,
   "metadata": {},
   "outputs": [],
   "source": [
    "# Criando um modelo ALS\n",
    "# Parâmetros:\n",
    "# - userCol: Nome da coluna que contém os IDs dos usuários\n",
    "# - itemCol: Nome da coluna que contém os IDs dos itens (por exemplo, filmes)\n",
    "# - ratingCol: Nome da coluna que contém as classificações atribuídas pelos usuários aos itens\n",
    "# - coldStartStrategy: Estratégia para lidar com novos usuários ou itens durante a previsão (\"drop\" irá descartar)\n",
    "# - nonnegative: Se True, restringe os fatores latentes a valores não negativos\n",
    "\n",
    "als = ALS(userCol=\"userid\", itemCol=\"movieid\", ratingCol=\"rating\",\n",
    "          coldStartStrategy=\"drop\", nonnegative=True)"
   ]
  },
  {
   "cell_type": "code",
   "execution_count": 20,
   "metadata": {},
   "outputs": [],
   "source": [
    "# Criando um grid de parâmetros para hiperparametrização do modelo ALS usando ParamGridBuilder\n",
    "\n",
    "# rank: número de fatores latentes\n",
    "# maxIter: número máximo de iterações\n",
    "# regParam: parâmetro de regularização\n",
    "param_grid = ParamGridBuilder()\\\n",
    "            .addGrid(als.rank, [10, 15, 20])\\\n",
    "            .addGrid(als.maxIter, [5, 10, 15])\\\n",
    "            .addGrid(als.regParam, [0.01, .1, .5])\\\n",
    "            .build()"
   ]
  },
  {
   "cell_type": "code",
   "execution_count": 21,
   "metadata": {},
   "outputs": [],
   "source": [
    "# Definindo um avaliador para a métrica RMSE (Root Mean Squared Error)\n",
    "\n",
    "# Parâmetros:\n",
    "# - metricName: Nome da métrica a ser avaliada, neste caso, \"rmse\" para o Root Mean Squared Error\n",
    "# - labelCol: Nome da coluna que contém os rótulos reais (neste caso, as classificações atribuídas pelos usuários)\n",
    "# - predictionCol: Nome da coluna que contém as previsões geradas pelo modelo\n",
    "\n",
    "evaluator = RegressionEvaluator(metricName=\"rmse\", labelCol=\"rating\", predictionCol=\"prediction\")"
   ]
  },
  {
   "cell_type": "code",
   "execution_count": 22,
   "metadata": {},
   "outputs": [],
   "source": [
    "# Criando um objeto TrainValidationSplit no PySpark para realizar a divisão entre treino e validação durante a validação cruzada\n",
    "\n",
    "# Parâmetros:\n",
    "# - estimator: Estimador a ser validado, neste caso, o modelo ALS que foi criado anteriormente\n",
    "# - estimatorParamMaps: Grid de parâmetros a serem testados durante a validação cruzada\n",
    "# - evaluator: Avaliador a ser usado para avaliar o desempenho do modelo em diferentes configurações\n",
    "\n",
    "train_validation = TrainValidationSplit(\n",
    "    estimator=als,\n",
    "    estimatorParamMaps=param_grid,\n",
    "    evaluator=evaluator,\n",
    ")"
   ]
  },
  {
   "cell_type": "code",
   "execution_count": 23,
   "metadata": {},
   "outputs": [],
   "source": [
    "# Treinando o modelo\n",
    "model = train_validation.fit(train)"
   ]
  },
  {
   "cell_type": "code",
   "execution_count": 24,
   "metadata": {},
   "outputs": [
    {
     "data": {
      "text/plain": [
       "ALSModel: uid=ALS_b76d695af141, rank=20"
      ]
     },
     "execution_count": 24,
     "metadata": {},
     "output_type": "execute_result"
    }
   ],
   "source": [
    "# Obtendo o melhor modelo\n",
    "best_model = model.bestModel\n",
    "best_model"
   ]
  },
  {
   "cell_type": "code",
   "execution_count": 25,
   "metadata": {},
   "outputs": [
    {
     "name": "stdout",
     "output_type": "stream",
     "text": [
      "+------+-------+------+----------+\n",
      "|userid|movieid|rating|prediction|\n",
      "+------+-------+------+----------+\n",
      "|28    |135    |1.0   |2.2751474 |\n",
      "|28    |593    |4.0   |3.7553833 |\n",
      "|28    |2184   |4.0   |3.2852948 |\n",
      "|28    |2559   |3.0   |2.1906624 |\n",
      "|31    |47     |3.0   |2.764629  |\n",
      "+------+-------+------+----------+\n",
      "only showing top 5 rows\n",
      "\n"
     ]
    }
   ],
   "source": [
    "# Gerando as previsões\n",
    "predictions = best_model.transform(test)\n",
    "predictions.show(5, truncate=False)"
   ]
  },
  {
   "cell_type": "code",
   "execution_count": 26,
   "metadata": {},
   "outputs": [],
   "source": [
    "# Avaliando o modelo\n",
    "rmse = evaluator.evaluate(predictions)"
   ]
  },
  {
   "cell_type": "markdown",
   "metadata": {},
   "source": [
    "Considerando que os ratings variam de 0 a 5, o Root Mean Square Error (RMSE) de **0.809221** indica que, em média, as previsões do modelo têm uma discrepância de aproximadamente 0.809221 unidades em relação aos valores reais em uma escala de 0 a 5. O termo \"root\" no RMSE implica que os erros foram primeiro elevados ao quadrado, acentuando a penalização dos erros maiores. A aplicação da raiz quadrada então retorna a métrica à mesma escala dos dados originais."
   ]
  },
  {
   "cell_type": "code",
   "execution_count": 27,
   "metadata": {},
   "outputs": [
    {
     "name": "stdout",
     "output_type": "stream",
     "text": [
      "Root Mean Squared Error (RMSE) on test data = 0.809221\n",
      "Rank = 20\n",
      "MaxIter = 15\n",
      "RegParam = 0.1\n"
     ]
    }
   ],
   "source": [
    "# Mostrando os resultados\n",
    "print(\"Root Mean Squared Error (RMSE) on test data = %g\" % rmse)\n",
    "print(\"Rank = %d\" % best_model.rank)\n",
    "print(\"MaxIter = %d\" % best_model._java_obj.parent().getMaxIter())\n",
    "print(\"RegParam = %g\" % best_model._java_obj.parent().getRegParam())"
   ]
  },
  {
   "cell_type": "code",
   "execution_count": 51,
   "metadata": {},
   "outputs": [
    {
     "name": "stdout",
     "output_type": "stream",
     "text": [
      "+------+-------+------+----------+\n",
      "|userid|movieid|rating|prediction|\n",
      "+------+-------+------+----------+\n",
      "|28    |135    |1.0   |2.2751474 |\n",
      "|28    |593    |4.0   |3.7553833 |\n",
      "|28    |2184   |4.0   |3.2852948 |\n",
      "|28    |2559   |3.0   |2.1906624 |\n",
      "|31    |47     |3.0   |2.764629  |\n",
      "+------+-------+------+----------+\n",
      "only showing top 5 rows\n",
      "\n"
     ]
    }
   ],
   "source": [
    "# Mostrando as previsões\n",
    "predictions.sort('userid', 'rating')\n",
    "predictions.show(5, False)"
   ]
  },
  {
   "cell_type": "markdown",
   "metadata": {},
   "source": [
    "# 4 - Gerando recomendações para todos os usuários usando o emlhor modelo obtido após o treino"
   ]
  },
  {
   "cell_type": "code",
   "execution_count": 29,
   "metadata": {},
   "outputs": [
    {
     "name": "stderr",
     "output_type": "stream",
     "text": [
      "c:\\Users\\Vinicius Luiz\\Desktop\\Scripts\\movie_recommendation_pyspark\\venv\\lib\\site-packages\\pyspark\\sql\\context.py:125: FutureWarning: Deprecated in 3.0.0. Use SparkSession.builder.getOrCreate() instead.\n",
      "  warnings.warn(\n"
     ]
    }
   ],
   "source": [
    "# Parâmetros:\n",
    "# - best_model: O modelo que apresentou o melhor desempenho após a validação cruzada\n",
    "# - recommendForAllUsers(10): Gerando recomendações para todos os usuários, onde 10 é o número de itens a serem recomendados para cada usuário\n",
    "user_recs = best_model.recommendForAllUsers(10)"
   ]
  },
  {
   "cell_type": "code",
   "execution_count": 47,
   "metadata": {},
   "outputs": [],
   "source": [
    "# Gerando recomendações para um usuário\n",
    "def get_recommendations_for_user(recs):\n",
    "    # Explodir a coluna de recomendações\n",
    "    df_exploded = recs.select(\"userid\", f.explode(\"recommendations\").alias(\"rec\"))\n",
    "\n",
    "    # Selecionar as colunas desejadas\n",
    "    df_transformed = df_exploded.select(\"rec.movieid\", \"rec.rating\")\n",
    "\n",
    "    # Renomear as colunas\n",
    "    df_transformed = df_transformed.withColumnRenamed(\"rec.movieid\", \"movieid\") \\\n",
    "                                   .withColumnRenamed(\"rec.rating\", \"rating\")\n",
    "\n",
    "    return df_transformed"
   ]
  },
  {
   "cell_type": "code",
   "execution_count": 48,
   "metadata": {},
   "outputs": [
    {
     "name": "stdout",
     "output_type": "stream",
     "text": [
      "+------+----------------------------------------------------------------------------------------------------------------------------------------------------------------------------------------------+\n",
      "|userid|recommendations                                                                                                                                                                               |\n",
      "+------+----------------------------------------------------------------------------------------------------------------------------------------------------------------------------------------------+\n",
      "|1     |[{318, 4.202657}, {182723, 4.170433}, {356, 4.1683593}, {1035, 4.163223}, {115969, 4.160298}, {364, 4.1588306}, {88125, 4.15752}, {176887, 4.1508374}, {159817, 4.1487494}, {4896, 4.1294866}]|\n",
      "+------+----------------------------------------------------------------------------------------------------------------------------------------------------------------------------------------------+\n",
      "\n",
      "root\n",
      " |-- userid: integer (nullable = false)\n",
      " |-- recommendations: array (nullable = true)\n",
      " |    |-- element: struct (containsNull = true)\n",
      " |    |    |-- movieid: integer (nullable = true)\n",
      " |    |    |-- rating: float (nullable = true)\n",
      "\n"
     ]
    }
   ],
   "source": [
    "# Gerando recomendações pro usuário 1\n",
    "\n",
    "user_1 = user_recs.filter(\"userid = 1\")\n",
    "\n",
    "user_1.show(truncate = False)\n",
    "user_1.printSchema()"
   ]
  },
  {
   "cell_type": "markdown",
   "metadata": {},
   "source": [
    "**Recomendação final de 10 filmes para o usuário 1**"
   ]
  },
  {
   "cell_type": "code",
   "execution_count": 50,
   "metadata": {},
   "outputs": [
    {
     "name": "stdout",
     "output_type": "stream",
     "text": [
      "+-------+---------+\n",
      "|movieid|rating   |\n",
      "+-------+---------+\n",
      "|318    |4.202657 |\n",
      "|182723 |4.170433 |\n",
      "|356    |4.1683593|\n",
      "|1035   |4.163223 |\n",
      "|115969 |4.160298 |\n",
      "|364    |4.1588306|\n",
      "|88125  |4.15752  |\n",
      "|176887 |4.1508374|\n",
      "|159817 |4.1487494|\n",
      "|4896   |4.1294866|\n",
      "+-------+---------+\n",
      "\n"
     ]
    }
   ],
   "source": [
    "user_1_transformed = get_recommendations_for_user(user_1)\n",
    "user_1_transformed.show(50, truncate=False)"
   ]
  },
  {
   "cell_type": "markdown",
   "metadata": {},
   "source": [
    "# 4 - Definindo o modelo"
   ]
  },
  {
   "cell_type": "code",
   "execution_count": 416,
   "metadata": {},
   "outputs": [],
   "source": [
    "class Recommender():\n",
    "    '''\n",
    "Root Mean Squared Error (RMSE) on test data = 0.809221\n",
    "Rank = 20\n",
    "MaxIter = 15\n",
    "RegParam = 0.1\n",
    "    '''\n",
    "    def __init__(self, rank: int = 20, maxIter: int = 15, regParam: float = 0.1):\n",
    "        self.model = None\n",
    "        self.ratings = None\n",
    "\n",
    "        self.rank = rank\n",
    "        self.maxIter = maxIter\n",
    "        self.regParam = regParam\n",
    "\n",
    "        self.schema = StructType([\n",
    "            StructField(\"userid\", IntegerType()),\n",
    "            StructField(\"recommendations\", ArrayType(StructType([\n",
    "                StructField(\"movieid\", IntegerType()),\n",
    "                StructField(\"rating\", FloatType())\n",
    "            ])))\n",
    "        ])\n",
    "\n",
    "    def prepare_data(self, sql: str):\n",
    "        '''Cria um DataFrame a partir de um SQL.'''\n",
    "        self.ratings = spark.sql(sql)\n",
    "        self.ratings = self.ratings.withColumn(\"userid\", f.col(\"userid\").cast(\"long\"))\n",
    "    \n",
    "    def fit(self, coldStartStrategy: str = 'drop'):\n",
    "        '''Treinando o Modelo'''\n",
    "        als = ALS(userCol=\"userid\", itemCol=\"movieid\", ratingCol=\"rating\",\n",
    "                  coldStartStrategy=coldStartStrategy, nonnegative=True,\n",
    "                  rank=self.rank, maxIter=self.maxIter, regParam=self.regParam)\n",
    "\n",
    "        self.model = als.fit(self.ratings)\n",
    "    \n",
    "    def prepare_user_ratings(self, userid: int, user_ratings: list, create_view: bool = False):\n",
    "        '''Cria um DataFrame a partir das avaliações do usuário'''\n",
    "        user = [\n",
    "            (userid, user_ratings)\n",
    "        ]\n",
    "\n",
    "        df_user_ratings =  spark.createDataFrame(user, schema=self.schema)\n",
    "\n",
    "        if create_view:\n",
    "            df_user_ratings.createOrReplaceTempView(\"user_ratings\")\n",
    "        \n",
    "        return df_user_ratings\n",
    "    \n",
    "    def recommend_for_user(self, user_ratings, numItems: int, create_view: str = None):\n",
    "        '''Gerando recomendações para um conjunto de usuários'''\n",
    "        recs = self.model.recommendForUserSubset(user_ratings, numItems=numItems)\n",
    "\n",
    "        df_exploded = recs.select(\"userid\", f.explode(\"recommendations\").alias(\"rec\"))\n",
    "\n",
    "        df_transformed = df_exploded.select(\"rec.movieid\", \"rec.rating\")\n",
    "\n",
    "        df_transformed = df_transformed.withColumnRenamed(\"rec.movieid\", \"movieid\") \\\n",
    "                                        .withColumnRenamed(\"rec.rating\", \"rating\")\n",
    "        \n",
    "        if create_view:\n",
    "            df_transformed.createOrReplaceTempView(create_view)\n",
    "\n",
    "        return df_transformed\n",
    "    \n",
    "    def show_recommendations(self, n: int, view_name: str):\n",
    "        SQL_RECOMENDATIONS  = '''\n",
    "            SELECT r.movieid\n",
    "                , m.title\n",
    "                , round(r.rating, 1) as rating\n",
    "                , m.genres\n",
    "            FROM {view_name} r\n",
    "            JOIN movies m\n",
    "                ON r.movieid = m.movieid\n",
    "            '''\n",
    "\n",
    "        spark.sql(SQL_RECOMENDATIONS.format(view_name=view_name)).show(n, truncate=False)"
   ]
  },
  {
   "cell_type": "markdown",
   "metadata": {},
   "source": [
    "# 5 - Utilizando modelo com base nas minhas avaliações"
   ]
  },
  {
   "cell_type": "markdown",
   "metadata": {},
   "source": [
    "## 5.1 - Análise das minhas avaliações"
   ]
  },
  {
   "cell_type": "code",
   "execution_count": 417,
   "metadata": {},
   "outputs": [],
   "source": [
    "USERID = 87"
   ]
  },
  {
   "cell_type": "code",
   "execution_count": 418,
   "metadata": {},
   "outputs": [],
   "source": [
    "# Obtendo minhas avaliações do arquivo csv\n",
    "USER_RATINGS = []\n",
    "\n",
    "USER_RATING_TO_DF = []\n",
    "\n",
    "with open('my_movies.csv', newline='', encoding='utf-8') as file:\n",
    "    csv_file = csv.reader(file)\n",
    "\n",
    "    cabecalho = next(csv_file)\n",
    "\n",
    "    for movie in csv_file:\n",
    "        movie =  dict(zip(cabecalho, movie))\n",
    "\n",
    "        movie = {\n",
    "            'movie': movie['movie'],\n",
    "            'movieid': int(movie['movieid']),\n",
    "            'rating': float(movie['rating'])\n",
    "        }\n",
    "        \n",
    "        USER_RATINGS.append( (movie['movieid'], movie['rating']) )\n",
    "        \n",
    "        USER_RATING_TO_DF.append(movie)"
   ]
  },
  {
   "cell_type": "markdown",
   "metadata": {},
   "source": [
    "```python\n",
    "[\n",
    "    (49272, 3.5),\n",
    "    (136020, 3.5),\n",
    "    (96079, 3.5),\n",
    "    (63113, 3.5),\n",
    "    ...\n",
    "]\n",
    "```"
   ]
  },
  {
   "cell_type": "code",
   "execution_count": 419,
   "metadata": {},
   "outputs": [],
   "source": [
    "# Definindo o esquema do DataFrame\n",
    "schema = StructType([\n",
    "    StructField(\"movie\", StringType(), nullable=True),\n",
    "    StructField(\"movieid\", IntegerType(), nullable=True),\n",
    "    StructField(\"rating\", FloatType(), nullable=True)\n",
    "])"
   ]
  },
  {
   "cell_type": "code",
   "execution_count": 420,
   "metadata": {},
   "outputs": [
    {
     "name": "stdout",
     "output_type": "stream",
     "text": [
      "+---------------------------+-------+------+\n",
      "|movie                      |movieid|rating|\n",
      "+---------------------------+-------+------+\n",
      "|007 - Cassino Royale       |49272  |3.5   |\n",
      "|007 - Contra Spectre       |136020 |3.5   |\n",
      "|007 - Operação Skyfall     |96079  |3.5   |\n",
      "|007 - Quantum of Solace    |63113  |3.5   |\n",
      "|007 - Sem Tempo para Morrer|224280 |3.5   |\n",
      "|1917                       |208703 |4.0   |\n",
      "|500 Dias Com Ela           |69757  |4.0   |\n",
      "|A Familia do Futuro        |52287  |4.0   |\n",
      "|A Vida De David Gale       |47200  |4.0   |\n",
      "|Alemão                     |164284 |3.0   |\n",
      "+---------------------------+-------+------+\n",
      "only showing top 10 rows\n",
      "\n"
     ]
    }
   ],
   "source": [
    "# Criando um DataFrame a partir das minhas avaliações \n",
    "my_movies = spark.createDataFrame(USER_RATING_TO_DF, schema=schema)\n",
    "my_movies.show(10, truncate = False)\n",
    "\n",
    "my_movies.createOrReplaceTempView(\"my_movies\")"
   ]
  },
  {
   "cell_type": "code",
   "execution_count": 421,
   "metadata": {},
   "outputs": [
    {
     "name": "stdout",
     "output_type": "stream",
     "text": [
      "+---------------------------+-------+------+----+--------------------------------------------------------+\n",
      "|movie                      |movieid|rating|year|genres                                                  |\n",
      "+---------------------------+-------+------+----+--------------------------------------------------------+\n",
      "|007 - Cassino Royale       |49272  |3.5   |2006|[Action, Adventure, Thriller]                           |\n",
      "|007 - Contra Spectre       |136020 |3.5   |2015|[Action, Adventure, Crime]                              |\n",
      "|007 - Operação Skyfall     |96079  |3.5   |2012|[Action, Adventure, Thriller, IMAX]                     |\n",
      "|007 - Quantum of Solace    |63113  |3.5   |2008|[Action, Adventure, Thriller]                           |\n",
      "|007 - Sem Tempo para Morrer|224280 |3.5   |2020|[Action, Adventure, Mystery, Thriller]                  |\n",
      "|1917                       |208703 |4.0   |2019|[Drama, War]                                            |\n",
      "|500 Dias Com Ela           |69757  |4.0   |2009|[Comedy, Drama, Romance]                                |\n",
      "|A Familia do Futuro        |52287  |4.0   |2007|[Action, Adventure, Animation, Children, Comedy, Sci-Fi]|\n",
      "|A Vida De David Gale       |47200  |4.0   |2006|[Action, Thriller]                                      |\n",
      "|Alemão                     |164284 |3.0   |2014|[Action, Drama]                                         |\n",
      "+---------------------------+-------+------+----+--------------------------------------------------------+\n",
      "only showing top 10 rows\n",
      "\n"
     ]
    }
   ],
   "source": [
    "# Enriquecendo o DataFrame\n",
    "SQL_MY_MOVIES = '''\n",
    "SELECT my.movie\n",
    "     , my.movieid\n",
    "     , my.rating\n",
    "     , m.year\n",
    "     , m.genres\n",
    " FROM my_movies my\n",
    " JOIN movies m\n",
    "   ON my.movieid = m.movieid\n",
    "'''\n",
    "\n",
    "my_movies = spark.sql(SQL_MY_MOVIES)\n",
    "my_movies.show(10, truncate = False)\n",
    "\n",
    "my_movies.createOrReplaceTempView(\"my_movies\")"
   ]
  },
  {
   "cell_type": "code",
   "execution_count": 422,
   "metadata": {},
   "outputs": [
    {
     "data": {
      "image/png": "[encoded data removed]",
      "text/plain": [
       "<Figure size 1200x500 with 1 Axes>"
      ]
     },
     "metadata": {},
     "output_type": "display_data"
    }
   ],
   "source": [
    "plt.figure(figsize=(12, 5))\n",
    "\n",
    "sns.set_style(\"whitegrid\", {\n",
    "        'axes.spines.bottom': False, 'axes.spines.left': False,\n",
    "        'axes.spines.right': False, 'axes.spines.top': False\n",
    "    })\n",
    "\n",
    "sns.boxplot(x='rating', data=my_movies.toPandas(), color='#5D9C59')\n",
    "\n",
    "\n",
    "plt.title('Minhas Avaliações', fontsize = 16, fontweight = 'bold')\n",
    "plt.xlabel('Rating')\n",
    "plt.show()"
   ]
  },
  {
   "cell_type": "code",
   "execution_count": 423,
   "metadata": {},
   "outputs": [],
   "source": [
    "SQL_MY_MOVIES_GENRES = '''\n",
    "SELECT genres\n",
    "     , rating\n",
    " FROM my_movies\n",
    "'''\n",
    "\n",
    "my_movies_genres = spark.sql(SQL_MY_MOVIES_GENRES)\n",
    "my_movies_genres = my_movies_genres.select(f.explode(\"genres\").alias(\"genre\"), 'rating')\n",
    "\n",
    "my_movies_genres.createOrReplaceTempView('my_movies_genres_explode')"
   ]
  },
  {
   "cell_type": "code",
   "execution_count": 424,
   "metadata": {},
   "outputs": [
    {
     "data": {
      "image/png": "[encoded data removed]",
      "text/plain": [
       "<Figure size 1000x600 with 1 Axes>"
      ]
     },
     "metadata": {},
     "output_type": "display_data"
    }
   ],
   "source": [
    "genre_counts = my_movies_genres.toPandas()['genre']\\\n",
    "                               .value_counts(ascending = True)\n",
    "\n",
    "\n",
    "sns.set_style(\"white\", {\n",
    "        'axes.spines.bottom': False, 'axes.spines.left': False,\n",
    "        'axes.spines.right': False, 'axes.spines.top': False\n",
    "    })\n",
    "\n",
    "plt.figure(figsize=(10, 6))\n",
    "ax = genre_counts.plot(kind='barh', color='#5D9C59')\n",
    "\n",
    "plt.title('Gêneros dos filmes que avaliei', fontsize = 16, fontweight = 'bold')\n",
    "plt.xlabel('')\n",
    "plt.ylabel('')\n",
    "\n",
    "ax.set_xticks([])\n",
    "plt.yticks(fontweight='bold')\n",
    "\n",
    "for i, v in enumerate(genre_counts):\n",
    "    ax.text(v + 0.1, i, str(v), color='black', va='center', fontsize=10)\n",
    "\n",
    "plt.show()"
   ]
  },
  {
   "cell_type": "code",
   "execution_count": 425,
   "metadata": {},
   "outputs": [],
   "source": [
    "SQL_MY_MOVIES_GENRES_RESUMED = '''\n",
    "SELECT genre\n",
    "     , ROUND((SUM(ruim)    / COUNT(1)) * 100, 2) AS ruim\n",
    "     , ROUND((SUM(mediano) / COUNT(1)) * 100, 2) AS mediano\n",
    "     , ROUND((SUM(bom)     / COUNT(1)) * 100, 2) AS bom\n",
    "FROM (\n",
    "    SELECT genre\n",
    "         , rating\n",
    "         , CASE WHEN rating < 3 THEN 1 ELSE 0 END               AS ruim\n",
    "         , CASE WHEN rating BETWEEN 3 AND 3.9 THEN 1 ELSE 0 END AS mediano\n",
    "         , CASE WHEN rating >= 4 THEN 1 ELSE 0 END              AS bom\n",
    "    FROM my_movies_genres_explode\n",
    ") \n",
    "GROUP BY genre\n",
    "'''\n",
    "my_movies_genres_resumed = spark.sql(SQL_MY_MOVIES_GENRES_RESUMED)\n",
    "my_movies_genres_resumed = my_movies_genres_resumed.toPandas()\\\n",
    "                                                  .sort_values('bom', ascending=False)"
   ]
  },
  {
   "cell_type": "code",
   "execution_count": 426,
   "metadata": {},
   "outputs": [
    {
     "data": {
      "image/png": "[encoded data removed]",
      "text/plain": [
       "<Figure size 1200x600 with 16 Axes>"
      ]
     },
     "metadata": {},
     "output_type": "display_data"
    }
   ],
   "source": [
    "num_linhas = 2\n",
    "num_colunas = len(my_movies_genres_resumed) // num_linhas + (len(my_movies_genres_resumed) % num_linhas > 0)\n",
    "\n",
    "genres = my_movies_genres_resumed['genre'].unique()\n",
    "\n",
    "fig, axs = plt.subplots(num_linhas, num_colunas, figsize=(12, 6))\n",
    "fig.subplots_adjust(hspace=-0.2)  # Ajuste a margem entre as linhas aqui\n",
    "\n",
    "labels = ['bom', 'mediano', 'ruim']\n",
    "colors = ['#5d998d', '#797979', '#ab0000']\n",
    "\n",
    "def autopct_label(pct, sizes):\n",
    "    return f'{pct:.1f}%' if round(pct, 2) in (sizes[0], sizes[0]+.01) else ''\n",
    "\n",
    "for i, genre in enumerate(genres):\n",
    "    row = i // num_colunas\n",
    "    col = i % num_colunas\n",
    "\n",
    "    subset_data = my_movies_genres_resumed[my_movies_genres_resumed['genre'] == genre]\n",
    "    sizes = [subset_data['bom'].values[0], subset_data['mediano'].values[0], subset_data['ruim'].values[0]]\n",
    "    explode = (0.1, 0, 0)\n",
    "\n",
    "    axs[row, col].pie(sizes, colors=colors, autopct=lambda pct: autopct_label(pct, sizes), startangle=140, explode=explode, textprops={'fontweight': 'bold'})\n",
    "    axs[row, col].set_title(genre, y=.7)\n",
    "    axs[row, col].axis('equal')\n",
    "\n",
    "# Remova subplots não utilizados\n",
    "for i in range(len(genres), num_linhas * num_colunas):\n",
    "    fig.delaxes(axs.flatten()[i])\n",
    "\n",
    "plt.legend(labels, loc='lower right')\n",
    "plt.suptitle(f'Distribuição de classificação dos filmes por Gênero', fontsize=14)\n",
    "\n",
    "plt.show()\n"
   ]
  },
  {
   "cell_type": "markdown",
   "metadata": {},
   "source": [
    "## 5.2 - Recomendando filmes\n",
    "**A base de dados possui avaliações até 07/2023**"
   ]
  },
  {
   "cell_type": "code",
   "execution_count": 427,
   "metadata": {},
   "outputs": [],
   "source": [
    "# Traça os filmes com pelo menos 100 avaliações\n",
    "SQL_MOVIES_SAMPLE = '''\n",
    "    SELECT m.movieid\n",
    "         , count(1)      as qtd_ratings\n",
    "      FROM ratings r\n",
    "      JOIN movies m\n",
    "        ON r.movieid = m.movieid\n",
    "    GROUP BY m.movieid\n",
    "    HAVING count(1) >= 100\n",
    "'''\n",
    "\n",
    "spark.sql(SQL_MOVIES_SAMPLE)\\\n",
    "    .createOrReplaceTempView(\"movies_sample\")"
   ]
  },
  {
   "cell_type": "code",
   "execution_count": 428,
   "metadata": {},
   "outputs": [],
   "source": [
    "# Traça todos os filmes aptos a treinamento\n",
    "SQL_RATINGS_TRAIN = ''' \n",
    "SELECT r.userid\n",
    "     , r.movieid\n",
    "     , r.rating\n",
    "     , m.genres\n",
    "     , r.rating_date\n",
    " FROM ratings r\n",
    " JOIN movies m\n",
    "   ON r.movieid = m.movieid\n",
    " JOIN movies_sample ms\n",
    "   ON r.movieid = ms.movieid\n",
    "WHERE 1=1\n",
    "'''\n",
    "\n",
    "spark.sql(SQL_RATINGS_TRAIN)\\\n",
    "    .createOrReplaceTempView(\"ratings_train\")"
   ]
  },
  {
   "cell_type": "code",
   "execution_count": 429,
   "metadata": {},
   "outputs": [],
   "source": [
    "# Traça gênero dos filmes\n",
    "SQL_MOVIES_GENRES = '''\n",
    "SELECT m.movieid\n",
    "     , m.genres\n",
    "  FROM movies m\n",
    "'''\n",
    "\n",
    "spark.sql(SQL_MOVIES_GENRES)\\\n",
    "     .select(\"movieid\", f.explode(\"genres\").alias(\"genres\"))\\\n",
    "     .createOrReplaceTempView('movies_genres')"
   ]
  },
  {
   "cell_type": "code",
   "execution_count": 430,
   "metadata": {},
   "outputs": [],
   "source": [
    "NUM_FILMES = 20"
   ]
  },
  {
   "cell_type": "markdown",
   "metadata": {},
   "source": [
    "### 5.2.1 - Geral"
   ]
  },
  {
   "cell_type": "code",
   "execution_count": 431,
   "metadata": {},
   "outputs": [],
   "source": [
    "VIEW_NAME = 'user_recs_geral'"
   ]
  },
  {
   "cell_type": "code",
   "execution_count": 434,
   "metadata": {},
   "outputs": [],
   "source": [
    "SQL_RATINGS_GERAL = ''' \n",
    "SELECT r.userid\n",
    "     , r.movieid\n",
    "     , r.rating\n",
    " FROM ratings_train r\n",
    "'''"
   ]
  },
  {
   "cell_type": "code",
   "execution_count": 435,
   "metadata": {},
   "outputs": [],
   "source": [
    "recommender = Recommender()\n",
    "recommender.prepare_data(SQL_RATINGS_GERAL)\n",
    "recommender.fit()"
   ]
  },
  {
   "cell_type": "code",
   "execution_count": 436,
   "metadata": {},
   "outputs": [
    {
     "name": "stderr",
     "output_type": "stream",
     "text": [
      "c:\\Users\\Vinicius Luiz\\Desktop\\Scripts\\movie_recommendation_pyspark\\venv\\lib\\site-packages\\pyspark\\sql\\context.py:125: FutureWarning: Deprecated in 3.0.0. Use SparkSession.builder.getOrCreate() instead.\n",
      "  warnings.warn(\n"
     ]
    }
   ],
   "source": [
    "user_ratings = recommender.prepare_user_ratings(USERID, USER_RATINGS)\n",
    "user_recomendations = recommender.recommend_for_user(user_ratings, numItems=NUM_FILMES, create_view=VIEW_NAME)"
   ]
  },
  {
   "cell_type": "code",
   "execution_count": 437,
   "metadata": {},
   "outputs": [
    {
     "name": "stdout",
     "output_type": "stream",
     "text": [
      "+-------+-----------------------------------------+------+-------------------------------------------------------+\n",
      "|movieid|title                                    |rating|genres                                                 |\n",
      "+-------+-----------------------------------------+------+-------------------------------------------------------+\n",
      "|2959   |Fight Club (1999)                        |4.3   |[Action, Crime, Drama, Thriller]                       |\n",
      "|3761   |Blood In, Blood Out (1993)               |4.3   |[Action, Crime, Drama, Thriller]                       |\n",
      "|176601 |Black Mirror                             |4.3   |[(no genres listed)]                                   |\n",
      "|179053 |2048: Nowhere to Run (2017)              |4.3   |[Sci-Fi, Thriller]                                     |\n",
      "|170705 |Band of Brothers (2001)                  |4.2   |[Action, Drama, War]                                   |\n",
      "|47     |Seven (a.k.a. Se7en) (1995)              |4.2   |[Mystery, Thriller]                                    |\n",
      "|109487 |Interstellar (2014)                      |4.2   |[Sci-Fi, IMAX]                                         |\n",
      "|231701 |Kill Bill: The Whole Bloody Affair (2011)|4.2   |[Action, Crime]                                        |\n",
      "|27022  |Thursday (1998)                          |4.2   |[Action, Crime, Thriller]                              |\n",
      "|79132  |Inception (2010)                         |4.2   |[Action, Crime, Drama, Mystery, Sci-Fi, Thriller, IMAX]|\n",
      "|121374 |Bill Burr: Why Do I Do This? (2008)      |4.2   |[Comedy]                                               |\n",
      "|74458  |Shutter Island (2010)                    |4.2   |[Drama, Mystery, Thriller]                             |\n",
      "|71838  |Law Abiding Citizen (2009)               |4.2   |[Drama, Thriller]                                      |\n",
      "|106782 |The Wolf of Wall Street (2013)           |4.2   |[Comedy, Crime, Drama]                                 |\n",
      "|182723 |Cosmos: A Spacetime Odissey              |4.2   |[(no genres listed)]                                   |\n",
      "|220528 |Twelve Angry Men (1954)                  |4.1   |[Drama]                                                |\n",
      "|48516  |The Departed (2006)                      |4.1   |[Crime, Drama, Thriller]                               |\n",
      "|4011   |Snatch (2000)                            |4.1   |[Comedy, Crime, Thriller]                              |\n",
      "|6187   |The Life of David Gale (2003)            |4.1   |[Crime, Drama, Thriller]                               |\n",
      "|181267 |Perfectos desconocidos (2017)            |4.1   |[Comedy, Drama]                                        |\n",
      "+-------+-----------------------------------------+------+-------------------------------------------------------+\n",
      "\n"
     ]
    }
   ],
   "source": [
    "recommender.show_recommendations(n=NUM_FILMES, view_name=VIEW_NAME)"
   ]
  },
  {
   "cell_type": "markdown",
   "metadata": {},
   "source": [
    "### 5.2.2 - Filmes de animação-comédia para crianças"
   ]
  },
  {
   "cell_type": "code",
   "execution_count": 438,
   "metadata": {},
   "outputs": [],
   "source": [
    "VIEW_NAME = 'user_recs_cca'"
   ]
  },
  {
   "cell_type": "code",
   "execution_count": 439,
   "metadata": {},
   "outputs": [],
   "source": [
    "# Traça somentes avaliações de filmes do gêneros: Children & Comedy & Animation\n",
    "SQL_RATINGS_CCA = '''\n",
    "SELECT r.userid\n",
    "     , r.movieid\n",
    "     , r.rating\n",
    "  FROM ratings_train r\n",
    " WHERE 1=1\n",
    "   AND ARRAY_CONTAINS(r.genres, 'Children')\n",
    "   AND ARRAY_CONTAINS(r.genres, 'Comedy')\n",
    "   AND ARRAY_CONTAINS(r.genres, 'Animation')\n",
    "'''"
   ]
  },
  {
   "cell_type": "code",
   "execution_count": 440,
   "metadata": {},
   "outputs": [],
   "source": [
    "recommender = Recommender()\n",
    "recommender.prepare_data(SQL_RATINGS_CCA)\n",
    "recommender.fit()"
   ]
  },
  {
   "cell_type": "code",
   "execution_count": 441,
   "metadata": {},
   "outputs": [],
   "source": [
    "user_ratings = recommender.prepare_user_ratings(USERID, USER_RATINGS)\n",
    "user_recomendations = recommender.recommend_for_user(user_ratings, numItems=NUM_FILMES, create_view=VIEW_NAME)"
   ]
  },
  {
   "cell_type": "code",
   "execution_count": 442,
   "metadata": {},
   "outputs": [
    {
     "name": "stdout",
     "output_type": "stream",
     "text": [
      "+-------+-------------------------------------------+------+--------------------------------------------------------+\n",
      "|movieid|title                                      |rating|genres                                                  |\n",
      "+-------+-------------------------------------------+------+--------------------------------------------------------+\n",
      "|134853 |Inside Out (2015)                          |0.5   |[Adventure, Animation, Children, Comedy, Drama, Fantasy]|\n",
      "|1      |Toy Story (1995)                           |0.5   |[Adventure, Animation, Children, Comedy, Fantasy]       |\n",
      "|78499  |Toy Story 3 (2010)                         |0.5   |[Adventure, Animation, Children, Comedy, Fantasy, IMAX] |\n",
      "|134849 |Duck Amuck (1953)                          |0.5   |[Animation, Children, Comedy]                           |\n",
      "|3114   |Toy Story 2 (1999)                         |0.5   |[Adventure, Animation, Children, Comedy, Fantasy]       |\n",
      "|163066 |Rabbit Seasoning (1952)                    |0.5   |[Animation, Children, Comedy]                           |\n",
      "|6377   |Finding Nemo (2003)                        |0.5   |[Adventure, Animation, Children, Comedy]                |\n",
      "|4886   |Monsters, Inc. (2001)                      |0.5   |[Adventure, Animation, Children, Comedy, Fantasy]       |\n",
      "|95311  |Presto (2008)                              |0.4   |[Animation, Children, Comedy, Fantasy]                  |\n",
      "|225173 |Soul (2020)                                |0.4   |[Adventure, Animation, Children, Comedy, Fantasy]       |\n",
      "|136477 |One Froggy Evening (1955)                  |0.4   |[Animation, Children, Comedy]                           |\n",
      "|135867 |Rabbit Fire (1951)                         |0.4   |[Animation, Children, Comedy]                           |\n",
      "|167792 |What's Opera, Doc? (1957)                  |0.4   |[Animation, Children, Comedy]                           |\n",
      "|95858  |For the Birds (2000)                       |0.4   |[Animation, Children, Comedy]                           |\n",
      "|138702 |Feast (2014)                               |0.4   |[Animation, Children, Comedy, Drama, Romance]           |\n",
      "|72356  |Partly Cloudy (2009)                       |0.4   |[Animation, Children, Comedy, Fantasy]                  |\n",
      "|8961   |The Incredibles (2004)                     |0.4   |[Action, Adventure, Animation, Children, Comedy]        |\n",
      "|201588 |Toy Story 4 (2019)                         |0.4   |[Adventure, Animation, Children, Comedy]                |\n",
      "|178827 |Paddington 2 (2017)                        |0.4   |[Adventure, Animation, Children, Comedy]                |\n",
      "|1148   |Wallace & Gromit: The Wrong Trousers (1993)|0.4   |[Animation, Children, Comedy, Crime]                    |\n",
      "+-------+-------------------------------------------+------+--------------------------------------------------------+\n",
      "\n"
     ]
    }
   ],
   "source": [
    "recommender.show_recommendations(n=NUM_FILMES, view_name=VIEW_NAME)"
   ]
  },
  {
   "cell_type": "markdown",
   "metadata": {},
   "source": [
    "### 5.2.3 - Filmes para quem gostou de Velozes e Furiosos"
   ]
  },
  {
   "cell_type": "code",
   "execution_count": 443,
   "metadata": {},
   "outputs": [],
   "source": [
    "VIEW_NAME = 'user_recs_ff'"
   ]
  },
  {
   "cell_type": "code",
   "execution_count": 444,
   "metadata": {},
   "outputs": [],
   "source": [
    "# Traça usuários que avaliaram positivamente os filmes da saga Velozes e Furiosos\n",
    "SQL_USERS_FF = '''\n",
    "SELECT DISTINCT r.userid\n",
    "  FROM ratings_train r\n",
    " WHERE r.movieid in (4369\n",
    "                    ,6383\n",
    "                    ,46335\n",
    "                    ,67923\n",
    "                    ,86644\n",
    "                    ,102716\n",
    "                    ,130634\n",
    "                    ,170875\n",
    "                    ,249964)\n",
    " GROUP BY r.userid\n",
    "HAVING avg(r.rating) >= 4.0\n",
    "'''\n",
    "\n",
    "spark.sql(SQL_USERS_FF)\\\n",
    "    .createOrReplaceTempView(\"ratings_users_ff\")"
   ]
  },
  {
   "cell_type": "code",
   "execution_count": 445,
   "metadata": {},
   "outputs": [],
   "source": [
    "# Traça filmes Avaliados por quem gostou dos filmes da saga Velozes e Furiosos\n",
    "SQL_RATINGS_FF = '''\n",
    "SELECT r.userid\n",
    "     , r.movieid\n",
    "     , r.rating\n",
    "  FROM ratings_train r\n",
    "  JOIN ratings_users_ff u\n",
    "    ON u.userid = r.userid\n",
    "'''"
   ]
  },
  {
   "cell_type": "code",
   "execution_count": 446,
   "metadata": {},
   "outputs": [],
   "source": [
    "recommender = Recommender()\n",
    "recommender.prepare_data(SQL_RATINGS_FF)\n",
    "recommender.fit()"
   ]
  },
  {
   "cell_type": "code",
   "execution_count": 447,
   "metadata": {},
   "outputs": [],
   "source": [
    "user_ratings = recommender.prepare_user_ratings(USERID, USER_RATINGS)\n",
    "user_recomendations = recommender.recommend_for_user(user_ratings, numItems=NUM_FILMES, create_view=VIEW_NAME)"
   ]
  },
  {
   "cell_type": "code",
   "execution_count": 448,
   "metadata": {},
   "outputs": [
    {
     "name": "stdout",
     "output_type": "stream",
     "text": [
      "+-------+-------------------------------------------------------------------------------------+------+---------------------------------+\n",
      "|movieid|title                                                                                |rating|genres                           |\n",
      "+-------+-------------------------------------------------------------------------------------+------+---------------------------------+\n",
      "|1365   |Ridicule (1996)                                                                      |5.0   |[Drama]                          |\n",
      "|103017 |The Body (2012)                                                                      |4.9   |[Mystery, Thriller]              |\n",
      "|33649  |Saving Face (2004)                                                                   |4.9   |[Comedy, Drama, Romance]         |\n",
      "|4547   |Stormy Monday (1988)                                                                 |4.8   |[Crime, Drama]                   |\n",
      "|7562   |Dobermann (1997)                                                                     |4.7   |[Action, Crime]                  |\n",
      "|284291 |Tetris (2023)                                                                        |4.7   |[Drama]                          |\n",
      "|147300 |Adventures Of Sherlock Holmes And Dr. Watson: The Twentieth Century Approaches (1986)|4.7   |[Crime, Mystery]                 |\n",
      "|68486  |Red Cliff Part II (Chi Bi Xia: Jue Zhan Tian Xia) (2009)                             |4.6   |[Action, Drama, War]             |\n",
      "|131433 |Confession of Murder (2012)                                                          |4.6   |[Action, Thriller]               |\n",
      "|6148   |White Dog (1982)                                                                     |4.6   |[Drama, Horror, Thriller]        |\n",
      "|47394  |Bon Cop, Bad Cop (2006)                                                              |4.6   |[Action, Comedy, Crime, Thriller]|\n",
      "|6329   |Manic (2001)                                                                         |4.5   |[Drama]                          |\n",
      "|96020  |Sidewalls (Medianeras) (2011)                                                        |4.5   |[Drama]                          |\n",
      "|50651  |Kenny (2006)                                                                         |4.5   |[Comedy]                         |\n",
      "|147326 |The Adventures of Sherlock Holmes and Doctor Watson: King of Blackmailers (1980)     |4.5   |[Crime, Mystery]                 |\n",
      "|8485   |Samsara (2001)                                                                       |4.5   |[Adventure, Drama, Romance]      |\n",
      "|1415   |Thieves (Voleurs, Les) (1996)                                                        |4.5   |[Crime, Drama, Romance]          |\n",
      "|207638 |La belle époque (2019)                                                               |4.5   |[Comedy, Drama]                  |\n",
      "|220528 |Twelve Angry Men (1954)                                                              |4.5   |[Drama]                          |\n",
      "|1757   |Fallen Angels (Duo luo tian shi) (1995)                                              |4.4   |[Drama, Romance]                 |\n",
      "+-------+-------------------------------------------------------------------------------------+------+---------------------------------+\n",
      "\n"
     ]
    }
   ],
   "source": [
    "recommender.show_recommendations(n=NUM_FILMES, view_name=VIEW_NAME)"
   ]
  }
 ],
 "metadata": {
  "kernelspec": {
   "display_name": "venv",
   "language": "python",
   "name": "python3"
  },
  "language_info": {
   "codemirror_mode": {
    "name": "ipython",
    "version": 3
   },
   "file_extension": ".py",
   "mimetype": "text/x-python",
   "name": "python",
   "nbconvert_exporter": "python",
   "pygments_lexer": "ipython3",
   "version": "3.9.12"
  }
 },
 "nbformat": 4,
 "nbformat_minor": 2
}
