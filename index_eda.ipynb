{
 "cells": [
  {
   "cell_type": "code",
   "execution_count": 1,
   "metadata": {},
   "outputs": [],
   "source": [
    "from pyspark.sql import SparkSession\n",
    "import sys\n",
    "import os"
   ]
  },
  {
   "cell_type": "code",
   "execution_count": 2,
   "metadata": {},
   "outputs": [],
   "source": [
    "os.environ['PYSPARK_PYTHON'] = sys.executable\n",
    "os.environ['PYSPARK_DRIVER_PYTHON'] = sys.executable"
   ]
  },
  {
   "cell_type": "code",
   "execution_count": 3,
   "metadata": {},
   "outputs": [],
   "source": [
    "# spark.stop()"
   ]
  },
  {
   "cell_type": "code",
   "execution_count": 4,
   "metadata": {},
   "outputs": [],
   "source": [
    "warehouse_location = \"hdfs://m1.local.br:9000/user/hive/warehouse\"\n",
    "hive_metastore_uri = \"thrift://m1.local.br:9083\"\n",
    "defaultFS = \"hdfs://m1.local.br:9000\""
   ]
  },
  {
   "cell_type": "markdown",
   "metadata": {},
   "source": [
    "# 1 - Conectando ao Hive com PySpark"
   ]
  },
  {
   "cell_type": "code",
   "execution_count": 5,
   "metadata": {},
   "outputs": [
    {
     "data": {
      "text/html": [
       "\n",
       "            <div>\n",
       "                <p><b>SparkSession - hive</b></p>\n",
       "                \n",
       "        <div>\n",
       "            <p><b>SparkContext</b></p>\n",
       "\n",
       "            <p><a href=\"http://DESKTOP-UFO3D9P:4040\">Spark UI</a></p>\n",
       "\n",
       "            <dl>\n",
       "              <dt>Version</dt>\n",
       "                <dd><code>v3.2.4</code></dd>\n",
       "              <dt>Master</dt>\n",
       "                <dd><code>local[*]</code></dd>\n",
       "              <dt>AppName</dt>\n",
       "                <dd><code>Exploratory Data Analysis - MovieLens dataset from Hive</code></dd>\n",
       "            </dl>\n",
       "        </div>\n",
       "        \n",
       "            </div>\n",
       "        "
      ],
      "text/plain": [
       "<pyspark.sql.session.SparkSession at 0x1c042c33ee0>"
      ]
     },
     "execution_count": 5,
     "metadata": {},
     "output_type": "execute_result"
    }
   ],
   "source": [
    "spark = SparkSession.builder \\\n",
    "    .appName(\"Exploratory Data Analysis - MovieLens dataset from Hive\") \\\n",
    "    .config(\"spark.sql.warehouse.dir\", warehouse_location) \\\n",
    "    .config(\"spark.hadoop.fs.defaultFS\", defaultFS) \\\n",
    "    .config(\"hive.metastore.uris\", hive_metastore_uri) \\\n",
    "    .enableHiveSupport() \\\n",
    "    .getOrCreate()\n",
    "\n",
    "spark"
   ]
  },
  {
   "cell_type": "code",
   "execution_count": 6,
   "metadata": {},
   "outputs": [],
   "source": [
    "spark.catalog.refreshByPath(warehouse_location)"
   ]
  },
  {
   "cell_type": "code",
   "execution_count": 7,
   "metadata": {},
   "outputs": [
    {
     "name": "stdout",
     "output_type": "stream",
     "text": [
      "URI do Metastore do Hive: thrift://m1.local.br:9083\n",
      "Endereço do Hadoop (HDFS): hdfs://m1.local.br:9000\n"
     ]
    }
   ],
   "source": [
    "print(\"URI do Metastore do Hive:\", spark.conf.get(\"hive.metastore.uris\"))\n",
    "print(\"Endereço do Hadoop (HDFS):\", spark.conf.get(\"spark.hadoop.fs.defaultFS\"))"
   ]
  },
  {
   "cell_type": "markdown",
   "metadata": {},
   "source": [
    "## 1.1 - Testando conectividade"
   ]
  },
  {
   "cell_type": "code",
   "execution_count": 8,
   "metadata": {},
   "outputs": [
    {
     "name": "stdout",
     "output_type": "stream",
     "text": [
      "+----------------+\n",
      "|       namespace|\n",
      "+----------------+\n",
      "|         default|\n",
      "|     flight_data|\n",
      "|hpc_treinamentos|\n",
      "|      myhivebook|\n",
      "+----------------+\n",
      "\n"
     ]
    }
   ],
   "source": [
    "# Visualizando todos os datasets\n",
    "databases = spark.sql(\"show databases\")\n",
    "databases.show()"
   ]
  },
  {
   "cell_type": "code",
   "execution_count": 9,
   "metadata": {},
   "outputs": [
    {
     "name": "stdout",
     "output_type": "stream",
     "text": [
      "+--------------+\n",
      "|current_user()|\n",
      "+--------------+\n",
      "| Vinicius Luiz|\n",
      "+--------------+\n",
      "\n"
     ]
    }
   ],
   "source": [
    "# Visualizando o nome do usuário\n",
    "tables = spark.sql(\"SELECT current_user()\")\n",
    "tables.show()"
   ]
  },
  {
   "cell_type": "code",
   "execution_count": 10,
   "metadata": {},
   "outputs": [
    {
     "data": {
      "text/plain": [
       "DataFrame[]"
      ]
     },
     "execution_count": 10,
     "metadata": {},
     "output_type": "execute_result"
    }
   ],
   "source": [
    "# Se conectando ao banco default\n",
    "spark.sql(\"USE default\")"
   ]
  },
  {
   "cell_type": "code",
   "execution_count": 11,
   "metadata": {},
   "outputs": [
    {
     "name": "stdout",
     "output_type": "stream",
     "text": [
      "+---------+-----------------+-----------+\n",
      "|namespace|        tableName|isTemporary|\n",
      "+---------+-----------------+-----------+\n",
      "|  default|    genome_scores|      false|\n",
      "|  default|genome_scores_tmp|      false|\n",
      "|  default|      genome_tags|      false|\n",
      "|  default|  genome_tags_tmp|      false|\n",
      "|  default|            links|      false|\n",
      "|  default|        links_tmp|      false|\n",
      "|  default|           movies|      false|\n",
      "|  default|       movies_tmp|      false|\n",
      "|  default|          ratings|      false|\n",
      "|  default|      ratings_tmp|      false|\n",
      "|  default|             tags|      false|\n",
      "|  default|         tags_tmp|      false|\n",
      "+---------+-----------------+-----------+\n",
      "\n"
     ]
    }
   ],
   "source": [
    "# Visualizando as tabelas no database default\n",
    "tables = spark.sql(\"SHOW tables\")\n",
    "tables.show()"
   ]
  },
  {
   "cell_type": "code",
   "execution_count": 12,
   "metadata": {},
   "outputs": [
    {
     "name": "stdout",
     "output_type": "stream",
     "text": [
      "+-------+----------------------------------+-------------------------------------------------+\n",
      "|movieid|title                             |genres                                           |\n",
      "+-------+----------------------------------+-------------------------------------------------+\n",
      "|1      |Toy Story (1995)                  |[Adventure, Animation, Children, Comedy, Fantasy]|\n",
      "|2      |Jumanji (1995)                    |[Adventure, Children, Fantasy]                   |\n",
      "|3      |Grumpier Old Men (1995)           |[Comedy, Romance]                                |\n",
      "|4      |Waiting to Exhale (1995)          |[Comedy, Drama, Romance]                         |\n",
      "|5      |Father of the Bride Part II (1995)|[Comedy]                                         |\n",
      "|6      |Heat (1995)                       |[Action, Crime, Thriller]                        |\n",
      "|7      |Sabrina (1995)                    |[Comedy, Romance]                                |\n",
      "|8      |Tom and Huck (1995)               |[Adventure, Children]                            |\n",
      "|9      |Sudden Death (1995)               |[Action]                                         |\n",
      "|10     |GoldenEye (1995)                  |[Action, Adventure, Thriller]                    |\n",
      "+-------+----------------------------------+-------------------------------------------------+\n",
      "only showing top 10 rows\n",
      "\n"
     ]
    }
   ],
   "source": [
    "df_movies = spark.sql(\"SELECT * FROM movies\")\n",
    "df_movies.show(10, truncate=False)"
   ]
  }
 ],
 "metadata": {
  "kernelspec": {
   "display_name": "venv",
   "language": "python",
   "name": "python3"
  },
  "language_info": {
   "codemirror_mode": {
    "name": "ipython",
    "version": 3
   },
   "file_extension": ".py",
   "mimetype": "text/x-python",
   "name": "python",
   "nbconvert_exporter": "python",
   "pygments_lexer": "ipython3",
   "version": "3.9.12"
  }
 },
 "nbformat": 4,
 "nbformat_minor": 2
}
